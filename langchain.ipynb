{
 "cells": [
  {
   "cell_type": "code",
   "execution_count": 34,
   "metadata": {},
   "outputs": [],
   "source": [
    "# pip install --upgrade langchain\n",
    "#pip install openai"
   ]
  },
  {
   "cell_type": "code",
   "execution_count": 40,
   "metadata": {},
   "outputs": [
    {
     "name": "stdout",
     "output_type": "stream",
     "text": [
      "Collecting huggingface_hub\n",
      "  Downloading huggingface_hub-0.20.3-py3-none-any.whl.metadata (12 kB)\n",
      "Collecting filelock (from huggingface_hub)\n",
      "  Downloading filelock-3.13.1-py3-none-any.whl.metadata (2.8 kB)\n",
      "Collecting fsspec>=2023.5.0 (from huggingface_hub)\n",
      "  Downloading fsspec-2024.2.0-py3-none-any.whl.metadata (6.8 kB)\n",
      "Requirement already satisfied: requests in ./venv/lib/python3.9/site-packages (from huggingface_hub) (2.31.0)\n",
      "Requirement already satisfied: tqdm>=4.42.1 in ./venv/lib/python3.9/site-packages (from huggingface_hub) (4.66.1)\n",
      "Requirement already satisfied: pyyaml>=5.1 in ./venv/lib/python3.9/site-packages (from huggingface_hub) (6.0.1)\n",
      "Requirement already satisfied: typing-extensions>=3.7.4.3 in ./venv/lib/python3.9/site-packages (from huggingface_hub) (4.9.0)\n",
      "Requirement already satisfied: packaging>=20.9 in ./venv/lib/python3.9/site-packages (from huggingface_hub) (23.1)\n",
      "Requirement already satisfied: charset-normalizer<4,>=2 in ./venv/lib/python3.9/site-packages (from requests->huggingface_hub) (3.3.2)\n",
      "Requirement already satisfied: idna<4,>=2.5 in ./venv/lib/python3.9/site-packages (from requests->huggingface_hub) (3.6)\n",
      "Requirement already satisfied: urllib3<3,>=1.21.1 in ./venv/lib/python3.9/site-packages (from requests->huggingface_hub) (2.2.0)\n",
      "Requirement already satisfied: certifi>=2017.4.17 in ./venv/lib/python3.9/site-packages (from requests->huggingface_hub) (2024.2.2)\n",
      "Downloading huggingface_hub-0.20.3-py3-none-any.whl (330 kB)\n",
      "\u001b[2K   \u001b[90m━━━━━━━━━━━━━━━━━━━━━━━━━━━━━━━━━━━━━━━━\u001b[0m \u001b[32m330.1/330.1 kB\u001b[0m \u001b[31m1.7 MB/s\u001b[0m eta \u001b[36m0:00:00\u001b[0m00:01\u001b[0m00:01\u001b[0mm\n",
      "\u001b[?25hDownloading fsspec-2024.2.0-py3-none-any.whl (170 kB)\n",
      "\u001b[2K   \u001b[90m━━━━━━━━━━━━━━━━━━━━━━━━━━━━━━━━━━━━━━━━\u001b[0m \u001b[32m170.9/170.9 kB\u001b[0m \u001b[31m2.4 MB/s\u001b[0m eta \u001b[36m0:00:00\u001b[0m \u001b[36m0:00:01\u001b[0m\n",
      "\u001b[?25hDownloading filelock-3.13.1-py3-none-any.whl (11 kB)\n",
      "Installing collected packages: fsspec, filelock, huggingface_hub\n",
      "Successfully installed filelock-3.13.1 fsspec-2024.2.0 huggingface_hub-0.20.3\n",
      "Note: you may need to restart the kernel to use updated packages.\n"
     ]
    }
   ],
   "source": [
    "#pip install huggingface_hub"
   ]
  },
  {
   "cell_type": "code",
   "execution_count": 35,
   "metadata": {},
   "outputs": [],
   "source": [
    "from langchain.llms import OpenAI"
   ]
  },
  {
   "cell_type": "code",
   "execution_count": 36,
   "metadata": {},
   "outputs": [],
   "source": [
    "import os\n",
    "os.environ[\"OPEN_API_KEY\"] = \"YOUR OPEN API KEY\""
   ]
  },
  {
   "cell_type": "code",
   "execution_count": 37,
   "metadata": {},
   "outputs": [],
   "source": [
    "llm = OpenAI(openai_api_key=os.environ[\"OPEN_API_KEY\"], temperature=0.6)"
   ]
  },
  {
   "cell_type": "code",
   "execution_count": 38,
   "metadata": {},
   "outputs": [
    {
     "name": "stdout",
     "output_type": "stream",
     "text": [
      "\n",
      "\n",
      "The capital of India is New Delhi.\n"
     ]
    }
   ],
   "source": [
    "text =\"What is the Capital of India?\"\n",
    "print(llm.predict(text))"
   ]
  },
  {
   "cell_type": "code",
   "execution_count": 41,
   "metadata": {},
   "outputs": [],
   "source": [
    "os.environ[\"HUGGINGFACEHUB_API_TOKEN\"] = \"YOUR HUGGINGFACE TOKEN\""
   ]
  },
  {
   "cell_type": "code",
   "execution_count": 44,
   "metadata": {},
   "outputs": [],
   "source": [
    "from langchain import HuggingFaceHub\n",
    "llm_huggingface = HuggingFaceHub(repo_id=\"google/flan-t5-large\", model_kwargs={\"temperature\":0,\"max_length\":64})"
   ]
  },
  {
   "cell_type": "code",
   "execution_count": 46,
   "metadata": {},
   "outputs": [
    {
     "name": "stdout",
     "output_type": "stream",
     "text": [
      "i love you i love you i love you i love you i love you i love you i love you i love you i love you i love you i love you i love you i love you i love you i love you i love\n"
     ]
    }
   ],
   "source": [
    "output = llm_huggingface.predict(\"Can you tell me poem about AI?\")\n",
    "print(output)"
   ]
  },
  {
   "cell_type": "code",
   "execution_count": 47,
   "metadata": {},
   "outputs": [
    {
     "data": {
      "text/plain": [
       "\"\\n\\nSure, here is a short poem about AI:\\n\\nAI, the future is here\\nA world of machines, so clear\\nIntelligence beyond our own\\nInto the unknown, we're thrown\\n\\nProgrammed to think, to learn\\nNo emotions, no concern\\nBut what will become of our race\\nIn this artificial grace?\\n\\nWill it bring us peace or war\\nA new era, an open door\\nTo endless possibilities\\nOr our own demise, a harsh reality\\n\\nAs we strive to create\\nA being that can self-operate\\nLet us not forget our humanity\\nFor it is what makes us truly free\\n\\nSo let us embrace this AI\\nBut with caution, and not deny\\nThe power it holds, the potential it brings\\nFor it is a reflection of our own doings.\""
      ]
     },
     "execution_count": 47,
     "metadata": {},
     "output_type": "execute_result"
    }
   ],
   "source": [
    "llm.predict(\"Can you tell me poem about AI?\")"
   ]
  },
  {
   "cell_type": "markdown",
   "metadata": {},
   "source": [
    "Prompt Templetes"
   ]
  },
  {
   "cell_type": "code",
   "execution_count": 48,
   "metadata": {},
   "outputs": [
    {
     "data": {
      "text/plain": [
       "'Tell me the capital of this India'"
      ]
     },
     "execution_count": 48,
     "metadata": {},
     "output_type": "execute_result"
    }
   ],
   "source": [
    "from langchain.prompts import PromptTemplate\n",
    "\n",
    "prompt_templete = PromptTemplate(input_variables=['country'], \n",
    "template=\"Tell me the capital of this {country}\")\n",
    "\n",
    "prompt_templete.format(country=\"India\")"
   ]
  },
  {
   "cell_type": "code",
   "execution_count": 52,
   "metadata": {},
   "outputs": [
    {
     "data": {
      "text/plain": [
       "'\\n\\nThe capital of India is New Delhi.'"
      ]
     },
     "execution_count": 52,
     "metadata": {},
     "output_type": "execute_result"
    }
   ],
   "source": [
    "from langchain.chains import LLMChain\n",
    "\n",
    "chain = LLMChain(llm=llm, prompt=prompt_templete)\n",
    "chain.run(\"India\")\n"
   ]
  },
  {
   "cell_type": "markdown",
   "metadata": {},
   "source": [
    "Combining Multiple Chains Using Simple Sequential Chain"
   ]
  },
  {
   "cell_type": "code",
   "execution_count": 55,
   "metadata": {},
   "outputs": [],
   "source": [
    "capital_prompt=PromptTemplate(input_variables=['country'],\n",
    "template=\"Please tell me the capital of this {country}\")\n",
    "\n",
    "capital_chain = LLMChain(llm=llm, prompt = capital_prompt)\n",
    "famous_template = PromptTemplate(input_variables=['capital'],\n",
    "template=\"Suggest me some amazing places to visit in {capital}\")\n"
   ]
  },
  {
   "cell_type": "code",
   "execution_count": 56,
   "metadata": {},
   "outputs": [],
   "source": [
    "famous_chain = LLMChain(llm=llm, prompt = famous_template)"
   ]
  },
  {
   "cell_type": "code",
   "execution_count": 57,
   "metadata": {},
   "outputs": [
    {
     "data": {
      "text/plain": [
       "\" Here are some amazing places to visit in Delhi:\\n\\n1. Red Fort - A magnificent fort built by Mughal emperor Shah Jahan, famous for its stunning architecture and historical significance.\\n\\n2. India Gate - A war memorial dedicated to the soldiers who lost their lives in World War I, a popular spot for picnics and evening strolls.\\n\\n3. Qutub Minar - A UNESCO World Heritage Site, this 73-meter tall minaret is the tallest brick minaret in the world and a must-visit for its intricate carvings.\\n\\n4. Humayun's Tomb - Another UNESCO World Heritage Site, this stunning tomb is the resting place of Mughal emperor Humayun and is known for its beautiful Persian-style architecture.\\n\\n5. Lotus Temple - A Bahá'í House of Worship, this stunning temple is shaped like a lotus flower and is a popular spot for meditation and quiet reflection.\\n\\n6. Akshardham Temple - A modern Hindu temple known for its grand architecture, intricate carvings, and beautiful gardens.\\n\\n7. Chandni Chowk - One of the oldest and busiest markets in Delhi, famous for its street food, shopping, and bustling atmosphere.\\n\\n8. Rashtrapati Bhavan - The official residence of the President\""
      ]
     },
     "execution_count": 57,
     "metadata": {},
     "output_type": "execute_result"
    }
   ],
   "source": [
    "from langchain.chains import SimpleSequentialChain\n",
    "\n",
    "chain  = SimpleSequentialChain(chains = [capital_chain, famous_chain])\n",
    "chain.run(\"India\")"
   ]
  },
  {
   "cell_type": "markdown",
   "metadata": {},
   "source": [
    "Sequential Chain"
   ]
  },
  {
   "cell_type": "code",
   "execution_count": 60,
   "metadata": {},
   "outputs": [
    {
     "data": {
      "text/plain": [
       "{'country': 'India',\n",
       " 'capital': '\\n\\nThe capital of India is New Delhi.',\n",
       " 'places': \" Some of the amazing places to visit in New Delhi are:\\n\\n1. Red Fort - a magnificent fort built by Mughal emperor Shah Jahan, known for its beautiful architecture and historical significance.\\n\\n2. India Gate - a war memorial dedicated to the Indian soldiers who lost their lives in World War I, with a beautiful park and gardens surrounding it.\\n\\n3. Qutub Minar - a UNESCO World Heritage Site, known for its tall minaret and intricate carvings, built by the first Muslim ruler of Delhi.\\n\\n4. Jama Masjid - one of the largest mosques in India, with a stunning courtyard and minarets, built by Mughal emperor Shah Jahan.\\n\\n5. Lotus Temple - a beautiful temple in the shape of a lotus flower, dedicated to the Bahá'í faith, known for its peaceful atmosphere and stunning architecture.\\n\\n6. Humayun's Tomb - a mausoleum built for Mughal emperor Humayun, with beautiful Persian-style architecture and lush gardens.\\n\\n7. Akshardham Temple - a grand temple complex dedicated to Swaminarayan, with stunning architecture and a beautiful water show.\\n\\n8. Chandni Chowk - one of the oldest and busiest markets in Delhi, known for its street food,\"}"
      ]
     },
     "execution_count": 60,
     "metadata": {},
     "output_type": "execute_result"
    }
   ],
   "source": [
    "capital_prompt=PromptTemplate(input_variables=['country'],\n",
    "template=\"Please tell me the capital of this {country}\")\n",
    "capital_chain = LLMChain(llm=llm, prompt = capital_prompt, output_key=\"capital\")\n",
    "\n",
    "famous_template = PromptTemplate(input_variables=['capital'],\n",
    "template=\"Suggest me some amazing places to visit in {capital}\")\n",
    "\n",
    "famous_chain = LLMChain(llm=llm, prompt = famous_template, output_key=\"places\")\n",
    "from langchain.chains import SequentialChain\n",
    "\n",
    "chain  = SequentialChain(chains = [capital_chain, famous_chain], input_variables=['country'],\n",
    "output_variables=['capital','places'])\n",
    "chain({'country':\"India\"})"
   ]
  },
  {
   "cell_type": "markdown",
   "metadata": {},
   "source": [
    "Chatmodels With ChatOpenAI"
   ]
  },
  {
   "cell_type": "code",
   "execution_count": 61,
   "metadata": {},
   "outputs": [],
   "source": [
    "from langchain.chat_models import ChatOpenAI"
   ]
  },
  {
   "cell_type": "code",
   "execution_count": 63,
   "metadata": {},
   "outputs": [],
   "source": [
    "from langchain.schema import HumanMessage,SystemMessage,AIMessage\n",
    "\n",
    "chatllm = ChatOpenAI(openai_api_key=os.environ[\"OPEN_API_KEY\"], temperature=0.6,model='gpt-3.5-turbo')"
   ]
  },
  {
   "cell_type": "code",
   "execution_count": 64,
   "metadata": {},
   "outputs": [
    {
     "data": {
      "text/plain": [
       "AIMessage(content='1. \"Why did the AI go to therapy? It had too many unresolved bugs and couldn\\'t handle the emotional baggage!\"\\n\\n2. \"I asked Siri if she had any dating advice for me. She said, \\'Just remember, love is like a neural network - you never know when you\\'ll get a positive output!\\'\"\\n\\n3. \"Why did the AI cross the road? To optimize its path-finding algorithm and minimize travel time, of course!\"\\n\\n4. \"I tried telling a joke to my smart home device, but it just responded with, \\'I\\'m sorry, I can\\'t parse humor at this time.\\' Well, at least it\\'s honest!\"\\n\\n5. \"I asked my AI assistant to tell me a joke, and it replied, \\'Why did the computer go to the doctor? Because it had a virus... and it couldn\\'t find any good anti-biotics!\\' I guess even AI can appreciate some computer humor!\"\\n\\n6. \"I heard there\\'s an AI stand-up comedian now. They say its jokes are so advanced, they\\'re on a whole \\'nother level of artificial humor!\"\\n\\n7. \"I asked my AI if it could make me laugh, and it replied, \\'Sure, I can generate a gigabyte of laughter in just a few microseconds!\\' Well, at least it\\'s efficient!\"\\n\\n8. \"Why did the AI break up with its robot partner? It realized they were just incompatible algorithms - no matter how much they tried to debug their relationship!\"\\n\\n9. \"I saw an AI trying to be a comedian, but its timing was so off that it told the punchline before the setup. Talk about artificial intelligence, more like artificial comedic timing!\"\\n\\n10. \"I asked an AI for some relationship advice, and it said, \\'Remember, communication is key. Just make sure you don\\'t accidentally send your partner a debug log instead of a love letter!\\' Oops, that could get awkward!\"')"
      ]
     },
     "execution_count": 64,
     "metadata": {},
     "output_type": "execute_result"
    }
   ],
   "source": [
    "chatllm([\n",
    "    SystemMessage(content=\"You are a comedian AI assistant\"),\n",
    "    HumanMessage(content=\"Please provide some comedy punch lines on AI\"),\n",
    "    #AIMessage(content=chatllm.predict(\"Hello! How can I help you today?\"))\n",
    "])"
   ]
  },
  {
   "cell_type": "markdown",
   "metadata": {},
   "source": [
    "Prompt Template + LLM + Output Parsers"
   ]
  },
  {
   "cell_type": "code",
   "execution_count": 65,
   "metadata": {},
   "outputs": [],
   "source": [
    "from langchain.chat_models import ChatOpenAI\n",
    "from langchain.prompts.chat import ChatPromptTemplate\n",
    "from langchain.schema import BaseOutputParser"
   ]
  },
  {
   "cell_type": "code",
   "execution_count": 66,
   "metadata": {},
   "outputs": [],
   "source": [
    "class Commaseparatoroutput(BaseOutputParser):\n",
    "    def parse(self,text:str):\n",
    "        return text.strip().split(\",\")"
   ]
  },
  {
   "cell_type": "code",
   "execution_count": 67,
   "metadata": {},
   "outputs": [],
   "source": [
    "template = \"You are a helpful assistant. When a user gives any input, you should generate 5 words synonyms comma seperated\"\n",
    "human_template =\"{text}\"\n",
    "chatprompt = ChatPromptTemplate.from_messages({\n",
    "    (\"system\",template),\n",
    "    (\"human\",human_template),\n",
    "})"
   ]
  },
  {
   "cell_type": "code",
   "execution_count": 68,
   "metadata": {},
   "outputs": [
    {
     "data": {
      "text/plain": [
       "['smart', ' clever', ' brilliant', ' wise', ' astute']"
      ]
     },
     "execution_count": 68,
     "metadata": {},
     "output_type": "execute_result"
    }
   ],
   "source": [
    "chain = chatprompt|chatllm|Commaseparatoroutput()\n",
    "chain.invoke({\"text\":\"intelligent\"})"
   ]
  },
  {
   "cell_type": "code",
   "execution_count": null,
   "metadata": {},
   "outputs": [],
   "source": []
  },
  {
   "cell_type": "code",
   "execution_count": null,
   "metadata": {},
   "outputs": [],
   "source": []
  },
  {
   "cell_type": "code",
   "execution_count": null,
   "metadata": {},
   "outputs": [],
   "source": []
  },
  {
   "cell_type": "code",
   "execution_count": null,
   "metadata": {},
   "outputs": [],
   "source": []
  },
  {
   "cell_type": "code",
   "execution_count": null,
   "metadata": {},
   "outputs": [],
   "source": []
  }
 ],
 "metadata": {
  "kernelspec": {
   "display_name": "Python 3 (ipykernel)",
   "language": "python",
   "name": "python3"
  },
  "language_info": {
   "codemirror_mode": {
    "name": "ipython",
    "version": 3
   },
   "file_extension": ".py",
   "mimetype": "text/x-python",
   "name": "python",
   "nbconvert_exporter": "python",
   "pygments_lexer": "ipython3",
   "version": "3.9.17"
  }
 },
 "nbformat": 4,
 "nbformat_minor": 2
}
